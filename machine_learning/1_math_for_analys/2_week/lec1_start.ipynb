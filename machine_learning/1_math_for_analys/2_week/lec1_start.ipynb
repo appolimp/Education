{
 "cells": [
  {
   "cell_type": "code",
   "execution_count": 1,
   "metadata": {
    "collapsed": true
   },
   "outputs": [],
   "source": [
    "import pandas as pd"
   ]
  },
  {
   "cell_type": "code",
   "execution_count": 7,
   "outputs": [],
   "source": [
    "frame1 = pd.DataFrame({'numbers': range(10),\n",
    "                      'chars': ['a']*10})"
   ],
   "metadata": {
    "collapsed": false,
    "pycharm": {
     "name": "#%%\n"
    }
   }
  },
  {
   "cell_type": "code",
   "source": [
    "frame = pd.read_csv('dataset.tsv', header=0, sep='\\t')"
   ],
   "metadata": {
    "collapsed": false,
    "pycharm": {
     "name": "#%%\n"
    }
   },
   "execution_count": null,
   "outputs": []
  },
  {
   "cell_type": "code",
   "execution_count": 10,
   "outputs": [
    {
     "data": {
      "text/plain": "              Name       Birth       City  Position\n0      Иванов А.А.  22.03.1980     Москва       NaN\n1     Сорокин И.В.  07.08.1965  Волгоград   инженер\n2       Белов М.М.  13.02.1980     Ростов  менеджер\n3  Мельникова Д.С.  15.04.1985     Ростов       NaN\n4      Рыбина Е.П.  19.11.1985     Москва   инженер\n5     Костров С.О.  31.05.1985     Москва    стажер",
      "text/html": "<div>\n<style scoped>\n    .dataframe tbody tr th:only-of-type {\n        vertical-align: middle;\n    }\n\n    .dataframe tbody tr th {\n        vertical-align: top;\n    }\n\n    .dataframe thead th {\n        text-align: right;\n    }\n</style>\n<table border=\"1\" class=\"dataframe\">\n  <thead>\n    <tr style=\"text-align: right;\">\n      <th></th>\n      <th>Name</th>\n      <th>Birth</th>\n      <th>City</th>\n      <th>Position</th>\n    </tr>\n  </thead>\n  <tbody>\n    <tr>\n      <th>0</th>\n      <td>Иванов А.А.</td>\n      <td>22.03.1980</td>\n      <td>Москва</td>\n      <td>NaN</td>\n    </tr>\n    <tr>\n      <th>1</th>\n      <td>Сорокин И.В.</td>\n      <td>07.08.1965</td>\n      <td>Волгоград</td>\n      <td>инженер</td>\n    </tr>\n    <tr>\n      <th>2</th>\n      <td>Белов М.М.</td>\n      <td>13.02.1980</td>\n      <td>Ростов</td>\n      <td>менеджер</td>\n    </tr>\n    <tr>\n      <th>3</th>\n      <td>Мельникова Д.С.</td>\n      <td>15.04.1985</td>\n      <td>Ростов</td>\n      <td>NaN</td>\n    </tr>\n    <tr>\n      <th>4</th>\n      <td>Рыбина Е.П.</td>\n      <td>19.11.1985</td>\n      <td>Москва</td>\n      <td>инженер</td>\n    </tr>\n    <tr>\n      <th>5</th>\n      <td>Костров С.О.</td>\n      <td>31.05.1985</td>\n      <td>Москва</td>\n      <td>стажер</td>\n    </tr>\n  </tbody>\n</table>\n</div>"
     },
     "execution_count": 10,
     "metadata": {},
     "output_type": "execute_result"
    }
   ],
   "source": [
    "frame"
   ],
   "metadata": {
    "collapsed": false,
    "pycharm": {
     "name": "#%%\n"
    }
   }
  },
  {
   "cell_type": "code",
   "source": [
    "frame.columns"
   ],
   "metadata": {
    "collapsed": false,
    "pycharm": {
     "name": "#%%\n"
    }
   },
   "execution_count": 15,
   "outputs": [
    {
     "data": {
      "text/plain": "Index(['Name', 'Birth', 'City', 'Position'], dtype='object')"
     },
     "execution_count": 15,
     "metadata": {},
     "output_type": "execute_result"
    }
   ]
  },
  {
   "cell_type": "code",
   "execution_count": 16,
   "outputs": [
    {
     "data": {
      "text/plain": "(6, 4)"
     },
     "execution_count": 16,
     "metadata": {},
     "output_type": "execute_result"
    }
   ],
   "source": [
    "frame.shape"
   ],
   "metadata": {
    "collapsed": false,
    "pycharm": {
     "name": "#%%\n"
    }
   }
  },
  {
   "cell_type": "code",
   "execution_count": 33,
   "outputs": [],
   "source": [
    "new_line = {'Name': 'Никита', 'City':'Санкт'}"
   ],
   "metadata": {
    "collapsed": false,
    "pycharm": {
     "name": "#%%\n"
    }
   }
  },
  {
   "cell_type": "code",
   "execution_count": 34,
   "outputs": [],
   "source": [
    "frame = frame.append(new_line, ignore_index=True)\n"
   ],
   "metadata": {
    "collapsed": false,
    "pycharm": {
     "name": "#%%\n"
    }
   }
  },
  {
   "cell_type": "code",
   "execution_count": 41,
   "outputs": [],
   "source": [
    "frame['IsStudent'] = [False] * 4 + [True] * 2"
   ],
   "metadata": {
    "collapsed": false,
    "pycharm": {
     "name": "#%%\n"
    }
   }
  },
  {
   "cell_type": "code",
   "execution_count": 26,
   "outputs": [],
   "source": [
    "frame.drop([5, 6], axis=0, inplace=True)"
   ],
   "metadata": {
    "collapsed": false,
    "pycharm": {
     "name": "#%%\n"
    }
   }
  },
  {
   "cell_type": "code",
   "execution_count": 43,
   "outputs": [],
   "source": [
    "frame.drop(['IsStudent'], axis=1, inplace=True)"
   ],
   "metadata": {
    "collapsed": false,
    "pycharm": {
     "name": "#%%\n"
    }
   }
  },
  {
   "cell_type": "code",
   "execution_count": 44,
   "outputs": [
    {
     "data": {
      "text/plain": "              Name       Birth       City  Position\n0      Иванов А.А.  22.03.1980     Москва       NaN\n1     Сорокин И.В.  07.08.1965  Волгоград   инженер\n2       Белов М.М.  13.02.1980     Ростов  менеджер\n3  Мельникова Д.С.  15.04.1985     Ростов       NaN\n4      Рыбина Е.П.  19.11.1985     Москва   инженер\n5           Никита         NaN      Санкт       NaN",
      "text/html": "<div>\n<style scoped>\n    .dataframe tbody tr th:only-of-type {\n        vertical-align: middle;\n    }\n\n    .dataframe tbody tr th {\n        vertical-align: top;\n    }\n\n    .dataframe thead th {\n        text-align: right;\n    }\n</style>\n<table border=\"1\" class=\"dataframe\">\n  <thead>\n    <tr style=\"text-align: right;\">\n      <th></th>\n      <th>Name</th>\n      <th>Birth</th>\n      <th>City</th>\n      <th>Position</th>\n    </tr>\n  </thead>\n  <tbody>\n    <tr>\n      <th>0</th>\n      <td>Иванов А.А.</td>\n      <td>22.03.1980</td>\n      <td>Москва</td>\n      <td>NaN</td>\n    </tr>\n    <tr>\n      <th>1</th>\n      <td>Сорокин И.В.</td>\n      <td>07.08.1965</td>\n      <td>Волгоград</td>\n      <td>инженер</td>\n    </tr>\n    <tr>\n      <th>2</th>\n      <td>Белов М.М.</td>\n      <td>13.02.1980</td>\n      <td>Ростов</td>\n      <td>менеджер</td>\n    </tr>\n    <tr>\n      <th>3</th>\n      <td>Мельникова Д.С.</td>\n      <td>15.04.1985</td>\n      <td>Ростов</td>\n      <td>NaN</td>\n    </tr>\n    <tr>\n      <th>4</th>\n      <td>Рыбина Е.П.</td>\n      <td>19.11.1985</td>\n      <td>Москва</td>\n      <td>инженер</td>\n    </tr>\n    <tr>\n      <th>5</th>\n      <td>Никита</td>\n      <td>NaN</td>\n      <td>Санкт</td>\n      <td>NaN</td>\n    </tr>\n  </tbody>\n</table>\n</div>"
     },
     "execution_count": 44,
     "metadata": {},
     "output_type": "execute_result"
    }
   ],
   "source": [
    "frame"
   ],
   "metadata": {
    "collapsed": false,
    "pycharm": {
     "name": "#%%\n"
    }
   }
  },
  {
   "cell_type": "code",
   "execution_count": 38,
   "outputs": [],
   "source": [
    "frame.to_csv('updated_dataset.csv', sep=',', header=True, index_label='Lab')"
   ],
   "metadata": {
    "collapsed": false,
    "pycharm": {
     "name": "#%%\n"
    }
   }
  },
  {
   "cell_type": "code",
   "execution_count": 45,
   "outputs": [
    {
     "data": {
      "text/plain": "           Name       Birth       City Position\n0   Иванов А.А.  22.03.1980     Москва      NaN\n1  Сорокин И.В.  07.08.1965  Волгоград  инженер",
      "text/html": "<div>\n<style scoped>\n    .dataframe tbody tr th:only-of-type {\n        vertical-align: middle;\n    }\n\n    .dataframe tbody tr th {\n        vertical-align: top;\n    }\n\n    .dataframe thead th {\n        text-align: right;\n    }\n</style>\n<table border=\"1\" class=\"dataframe\">\n  <thead>\n    <tr style=\"text-align: right;\">\n      <th></th>\n      <th>Name</th>\n      <th>Birth</th>\n      <th>City</th>\n      <th>Position</th>\n    </tr>\n  </thead>\n  <tbody>\n    <tr>\n      <th>0</th>\n      <td>Иванов А.А.</td>\n      <td>22.03.1980</td>\n      <td>Москва</td>\n      <td>NaN</td>\n    </tr>\n    <tr>\n      <th>1</th>\n      <td>Сорокин И.В.</td>\n      <td>07.08.1965</td>\n      <td>Волгоград</td>\n      <td>инженер</td>\n    </tr>\n  </tbody>\n</table>\n</div>"
     },
     "execution_count": 45,
     "metadata": {},
     "output_type": "execute_result"
    }
   ],
   "source": [
    "frame[:2]"
   ],
   "metadata": {
    "collapsed": false,
    "pycharm": {
     "name": "#%%\n"
    }
   }
  },
  {
   "cell_type": "code",
   "execution_count": null,
   "outputs": [],
   "source": [],
   "metadata": {
    "collapsed": false,
    "pycharm": {
     "name": "#%%\n"
    }
   }
  }
 ],
 "metadata": {
  "kernelspec": {
   "display_name": "Python 3",
   "language": "python",
   "name": "python3"
  },
  "language_info": {
   "codemirror_mode": {
    "name": "ipython",
    "version": 2
   },
   "file_extension": ".py",
   "mimetype": "text/x-python",
   "name": "python",
   "nbconvert_exporter": "python",
   "pygments_lexer": "ipython2",
   "version": "2.7.6"
  }
 },
 "nbformat": 4,
 "nbformat_minor": 0
}