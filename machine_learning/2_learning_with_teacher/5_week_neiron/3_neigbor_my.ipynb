{
 "cells": [
  {
   "cell_type": "markdown",
   "metadata": {
    "collapsed": true,
    "pycharm": {
     "name": "#%% md\n"
    }
   },
   "source": [
    "## Задание по программированию: 1NN против RandomForest\n",
    "### Импорт"
   ]
  },
  {
   "cell_type": "code",
   "execution_count": 7,
   "outputs": [],
   "source": [
    "from sklearn import datasets, model_selection, naive_bayes, metrics, neighbors, ensemble\n",
    "import matplotlib.pyplot as plt\n",
    "import numpy as np\n",
    "import warnings\n",
    "from pybrain3.utilities import percentError\n",
    "\n",
    "%matplotlib inline\n",
    "plt.style.use(['seaborn', 'seaborn-talk'])\n",
    "warnings.filterwarnings('ignore')\n",
    "\n",
    "def write_answer(number, value):\n",
    "    with open(f\"3_{number}_neighbor.txt\", \"w\") as file:\n",
    "        print(number, value)\n",
    "        file.write(str(value))"
   ],
   "metadata": {
    "collapsed": false,
    "pycharm": {
     "name": "#%%\n"
    }
   }
  },
  {
   "cell_type": "markdown",
   "source": [
    "### Данные"
   ],
   "metadata": {
    "collapsed": false
   }
  },
  {
   "cell_type": "code",
   "execution_count": 2,
   "outputs": [
    {
     "name": "stdout",
     "output_type": "stream",
     "text": [
      "(1347, 64) (450, 64) (1347,) (450,)\n"
     ]
    }
   ],
   "source": [
    "digit = datasets.load_digits()\n",
    "\n",
    "X_train, X_test, y_train, y_test = model_selection.train_test_split(digit.data, digit.target,\n",
    "                                                                    train_size=0.75, random_state=0, shuffle = False)\n",
    "\n",
    "print(X_train.shape, X_test.shape, y_train.shape, y_test.shape)"
   ],
   "metadata": {
    "collapsed": false,
    "pycharm": {
     "name": "#%%\n"
    }
   }
  },
  {
   "cell_type": "code",
   "execution_count": 3,
   "outputs": [],
   "source": [
    "result = []\n",
    "for x_item_test in X_test:\n",
    "    distances = []\n",
    "    for x_item_train, y_item_train in zip(X_train, y_train):\n",
    "        vec = x_item_test-x_item_train\n",
    "        dist = np.sum(vec*vec) ** 0.5\n",
    "        distances.append((dist, y_item_train))\n",
    "\n",
    "    distances.sort()\n",
    "    result.append(min(distances)[1])"
   ],
   "metadata": {
    "collapsed": false,
    "pycharm": {
     "name": "#%%\n"
    }
   }
  },
  {
   "cell_type": "code",
   "execution_count": 4,
   "outputs": [
    {
     "name": "stdout",
     "output_type": "stream",
     "text": [
      "Score of nearest neighbor: 96.22222 %\n"
     ]
    }
   ],
   "source": [
    "score_ac_1 = metrics.accuracy_score(y_test, result)\n",
    "print(f'Score of nearest neighbor: {score_ac_1*100:.5f} %')"
   ],
   "metadata": {
    "collapsed": false,
    "pycharm": {
     "name": "#%%\n"
    }
   }
  },
  {
   "cell_type": "code",
   "execution_count": 5,
   "outputs": [
    {
     "name": "stdout",
     "output_type": "stream",
     "text": [
      "[3 7 3 3 4 6 6 6 4 9]\n",
      "[3 7 3 3 4 6 6 6 4 9]\n",
      "Score of KNeighborsClassifier: 96.22222 %\n"
     ]
    }
   ],
   "source": [
    "regressor = neighbors.KNeighborsClassifier(n_neighbors=1, n_jobs=-1)\n",
    "regressor.fit(X_train, y_train)\n",
    "\n",
    "res = regressor.predict(X_test)\n",
    "\n",
    "score_ac_2 = metrics.accuracy_score(y_test, res)\n",
    "print(f'Score of KNeighborsClassifier: {score_ac_2*100:.5f} %')"
   ],
   "metadata": {
    "collapsed": false,
    "pycharm": {
     "name": "#%%\n"
    }
   }
  },
  {
   "cell_type": "code",
   "execution_count": 6,
   "outputs": [
    {
     "name": "stdout",
     "output_type": "stream",
     "text": [
      "0.9622222222222222\n",
      "0.9622222222222222\n",
      "1 0.0377777777777778\n"
     ]
    }
   ],
   "source": [
    "write_answer(1, 1-score_ac_1)"
   ],
   "metadata": {
    "collapsed": false,
    "pycharm": {
     "name": "#%%\n"
    }
   }
  },
  {
   "cell_type": "markdown",
   "source": [
    "## RandomForestClassifier"
   ],
   "metadata": {
    "collapsed": false,
    "pycharm": {
     "name": "#%% md\n"
    }
   }
  },
  {
   "cell_type": "code",
   "execution_count": 10,
   "outputs": [
    {
     "name": "stdout",
     "output_type": "stream",
     "text": [
      "Score of RandomForestClassifier: 93.55556 %\n",
      "2 0.06444444444444442\n"
     ]
    }
   ],
   "source": [
    "estimator = ensemble.RandomForestClassifier(n_estimators=1000, n_jobs=-1, random_state=0)\n",
    "estimator.fit(X_train, y_train)\n",
    "\n",
    "res_forest = estimator.predict(X_test)\n",
    "\n",
    "score_ac_forest = metrics.accuracy_score(y_test, res_forest)\n",
    "print(f'Score of RandomForestClassifier: {score_ac_forest*100:.5f} %')\n",
    "\n",
    "write_answer(2, 1 - score_ac_forest)"
   ],
   "metadata": {
    "collapsed": false,
    "pycharm": {
     "name": "#%%\n"
    }
   }
  }
 ],
 "metadata": {
  "kernelspec": {
   "name": "myenv",
   "language": "python",
   "display_name": "Python (myenv)"
  },
  "language_info": {
   "codemirror_mode": {
    "name": "ipython",
    "version": 2
   },
   "file_extension": ".py",
   "mimetype": "text/x-python",
   "name": "python",
   "nbconvert_exporter": "python",
   "pygments_lexer": "ipython2",
   "version": "2.7.6"
  }
 },
 "nbformat": 4,
 "nbformat_minor": 0
}