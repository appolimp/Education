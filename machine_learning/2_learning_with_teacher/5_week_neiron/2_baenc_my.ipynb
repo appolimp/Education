{
 "cells": [
  {
   "cell_type": "markdown",
   "metadata": {
    "collapsed": true,
    "pycharm": {
     "name": "#%% md\n"
    }
   },
   "source": [
    "## Наивное Байесовское распределение\n",
    "### Импорт"
   ]
  },
  {
   "cell_type": "code",
   "execution_count": 1,
   "outputs": [],
   "source": [
    "from sklearn import datasets, model_selection, naive_bayes\n",
    "import matplotlib.pyplot as plt\n",
    "import numpy as np\n",
    "import warnings\n",
    "\n",
    "%matplotlib inline\n",
    "plt.style.use(['seaborn', 'seaborn-talk'])\n",
    "warnings.filterwarnings('ignore')\n",
    "\n",
    "def write_answer(number, value):\n",
    "    with open(f\"2_{number}_bayes.txt\", \"w\") as file:\n",
    "        print(number, value)\n",
    "        file.write(str(value))"
   ],
   "metadata": {
    "collapsed": false,
    "pycharm": {
     "name": "#%%\n"
    }
   }
  },
  {
   "cell_type": "markdown",
   "source": [
    "### Загрузка дата сетов"
   ],
   "metadata": {
    "collapsed": false
   }
  },
  {
   "cell_type": "code",
   "execution_count": 2,
   "outputs": [],
   "source": [
    "digit_data = datasets.load_digits()\n",
    "bread_data = datasets.load_breast_cancer()"
   ],
   "metadata": {
    "collapsed": false,
    "pycharm": {
     "name": "#%%\n"
    }
   }
  },
  {
   "cell_type": "code",
   "execution_count": 3,
   "outputs": [
    {
     "name": "stdout",
     "output_type": "stream",
     "text": [
      "Точность BernoulliNB: 82.4 %\n",
      "Точность MultinomialNB: 87.0 %\n",
      "Точность GaussianNB: 80.7 %\n"
     ]
    }
   ],
   "source": [
    "# digit\n",
    "bernoulli_scoring = model_selection.cross_val_score(naive_bayes.BernoulliNB(), digit_data.data, digit_data.target)\n",
    "print(f'Точность BernoulliNB: {bernoulli_scoring.mean()*100:.1f} %')\n",
    "\n",
    "multinomial_scoring = model_selection.cross_val_score(naive_bayes.MultinomialNB (), digit_data.data, digit_data.target)\n",
    "print(f'Точность MultinomialNB: {multinomial_scoring.mean()*100:.1f} %')\n",
    "\n",
    "gaussian_scoring = model_selection.cross_val_score(naive_bayes.GaussianNB (), digit_data.data, digit_data.target)\n",
    "print(f'Точность GaussianNB: {gaussian_scoring.mean()*100:.1f} %')"
   ],
   "metadata": {
    "collapsed": false,
    "pycharm": {
     "name": "#%%\n"
    }
   }
  },
  {
   "cell_type": "code",
   "execution_count": 4,
   "outputs": [
    {
     "name": "stdout",
     "output_type": "stream",
     "text": [
      "2 0.8703497369235531\n"
     ]
    }
   ],
   "source": [
    "write_answer(2, max(bernoulli_scoring.mean(), multinomial_scoring.mean(), gaussian_scoring.mean()))"
   ],
   "metadata": {
    "collapsed": false,
    "pycharm": {
     "name": "#%%\n"
    }
   }
  },
  {
   "cell_type": "code",
   "execution_count": 5,
   "outputs": [
    {
     "name": "stdout",
     "output_type": "stream",
     "text": [
      "Точность BernoulliNB: 62.7 %\n",
      "Точность MultinomialNB: 89.6 %\n",
      "Точность GaussianNB: 93.9 %\n"
     ]
    }
   ],
   "source": [
    "# bread\n",
    "bernoulli_scoring = model_selection.cross_val_score(naive_bayes.BernoulliNB(), bread_data.data, bread_data.target)\n",
    "print(f'Точность BernoulliNB: {bernoulli_scoring.mean()*100:.1f} %')\n",
    "\n",
    "multinomial_scoring = model_selection.cross_val_score(naive_bayes.MultinomialNB (), bread_data.data, bread_data.target)\n",
    "print(f'Точность MultinomialNB: {multinomial_scoring.mean()*100:.1f} %')\n",
    "\n",
    "gaussian_scoring = model_selection.cross_val_score(naive_bayes.GaussianNB (), bread_data.data, bread_data.target)\n",
    "print(f'Точность GaussianNB: {gaussian_scoring.mean()*100:.1f} %')"
   ],
   "metadata": {
    "collapsed": false,
    "pycharm": {
     "name": "#%%\n"
    }
   }
  },
  {
   "cell_type": "code",
   "execution_count": 6,
   "outputs": [
    {
     "name": "stdout",
     "output_type": "stream",
     "text": [
      "1 0.9385188635305075\n"
     ]
    }
   ],
   "source": [
    "write_answer(1, max(bernoulli_scoring.mean(), multinomial_scoring.mean(), gaussian_scoring.mean()))"
   ],
   "metadata": {
    "collapsed": false,
    "pycharm": {
     "name": "#%%\n"
    }
   }
  },
  {
   "cell_type": "code",
   "execution_count": 7,
   "outputs": [
    {
     "name": "stdout",
     "output_type": "stream",
     "text": [
      "3 3 4\n"
     ]
    }
   ],
   "source": [
    "write_answer(3, '3 4')"
   ],
   "metadata": {
    "collapsed": false,
    "pycharm": {
     "name": "#%%\n"
    }
   }
  }
 ],
 "metadata": {
  "kernelspec": {
   "name": "myenv",
   "language": "python",
   "display_name": "Python (myenv)"
  },
  "language_info": {
   "codemirror_mode": {
    "name": "ipython",
    "version": 2
   },
   "file_extension": ".py",
   "mimetype": "text/x-python",
   "name": "python",
   "nbconvert_exporter": "python",
   "pygments_lexer": "ipython2",
   "version": "2.7.6"
  }
 },
 "nbformat": 4,
 "nbformat_minor": 0
}