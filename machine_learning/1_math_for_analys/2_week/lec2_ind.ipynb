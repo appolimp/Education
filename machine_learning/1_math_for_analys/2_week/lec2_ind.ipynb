{
 "cells": [
  {
   "cell_type": "code",
   "execution_count": 54,
   "metadata": {
    "collapsed": true
   },
   "outputs": [],
   "source": [
    "import pandas as pd\n",
    "import datetime"
   ]
  },
  {
   "cell_type": "code",
   "execution_count": 48,
   "outputs": [],
   "source": [
    "frame = pd.read_csv('dataset.tsv', sep='\\t', header=0)"
   ],
   "metadata": {
    "collapsed": false,
    "pycharm": {
     "name": "#%%\n"
    }
   }
  },
  {
   "cell_type": "code",
   "execution_count": 6,
   "outputs": [
    {
     "data": {
      "text/plain": "Name        object\nBirth       object\nCity        object\nPosition    object\ndtype: object"
     },
     "execution_count": 6,
     "metadata": {},
     "output_type": "execute_result"
    }
   ],
   "source": [
    "frame.dtypes"
   ],
   "metadata": {
    "collapsed": false,
    "pycharm": {
     "name": "#%%\n"
    }
   }
  },
  {
   "cell_type": "code",
   "execution_count": 50,
   "outputs": [],
   "source": [
    "frame.Birth = frame.Birth.apply(pd.to_datetime)"
   ],
   "metadata": {
    "collapsed": false,
    "pycharm": {
     "name": "#%%\n"
    }
   }
  },
  {
   "cell_type": "code",
   "execution_count": 9,
   "outputs": [
    {
     "data": {
      "text/plain": "Name                object\nBirth       datetime64[ns]\nCity                object\nPosition            object\ndtype: object"
     },
     "execution_count": 9,
     "metadata": {},
     "output_type": "execute_result"
    }
   ],
   "source": [
    "frame.dtypes"
   ],
   "metadata": {
    "collapsed": false,
    "pycharm": {
     "name": "#%%\n"
    }
   }
  },
  {
   "cell_type": "code",
   "execution_count": 12,
   "outputs": [
    {
     "name": "stdout",
     "output_type": "stream",
     "text": [
      "<class 'pandas.core.frame.DataFrame'>\n",
      "RangeIndex: 6 entries, 0 to 5\n",
      "Data columns (total 4 columns):\n",
      " #   Column    Non-Null Count  Dtype         \n",
      "---  ------    --------------  -----         \n",
      " 0   Name      6 non-null      object        \n",
      " 1   Birth     6 non-null      datetime64[ns]\n",
      " 2   City      6 non-null      object        \n",
      " 3   Position  4 non-null      object        \n",
      "dtypes: datetime64[ns](1), object(3)\n",
      "memory usage: 184.0+ bytes\n"
     ]
    }
   ],
   "source": [
    "frame.info()"
   ],
   "metadata": {
    "collapsed": false,
    "pycharm": {
     "name": "#%%\n"
    }
   }
  },
  {
   "cell_type": "code",
   "execution_count": 30,
   "outputs": [],
   "source": [
    "frame.Position.fillna('разнорабочий', inplace=True)"
   ],
   "metadata": {
    "collapsed": false,
    "pycharm": {
     "name": "#%%\n"
    }
   }
  },
  {
   "cell_type": "code",
   "execution_count": 23,
   "outputs": [
    {
     "data": {
      "text/plain": "       Position             Name\n0  разнорабочий      Иванов А.А.\n1       инженер     Сорокин И.В.\n2      менеджер       Белов М.М.\n3  разнорабочий  Мельникова Д.С.\n4       инженер      Рыбина Е.П.\n5        стажер     Костров С.О.",
      "text/html": "<div>\n<style scoped>\n    .dataframe tbody tr th:only-of-type {\n        vertical-align: middle;\n    }\n\n    .dataframe tbody tr th {\n        vertical-align: top;\n    }\n\n    .dataframe thead th {\n        text-align: right;\n    }\n</style>\n<table border=\"1\" class=\"dataframe\">\n  <thead>\n    <tr style=\"text-align: right;\">\n      <th></th>\n      <th>Position</th>\n      <th>Name</th>\n    </tr>\n  </thead>\n  <tbody>\n    <tr>\n      <th>0</th>\n      <td>разнорабочий</td>\n      <td>Иванов А.А.</td>\n    </tr>\n    <tr>\n      <th>1</th>\n      <td>инженер</td>\n      <td>Сорокин И.В.</td>\n    </tr>\n    <tr>\n      <th>2</th>\n      <td>менеджер</td>\n      <td>Белов М.М.</td>\n    </tr>\n    <tr>\n      <th>3</th>\n      <td>разнорабочий</td>\n      <td>Мельникова Д.С.</td>\n    </tr>\n    <tr>\n      <th>4</th>\n      <td>инженер</td>\n      <td>Рыбина Е.П.</td>\n    </tr>\n    <tr>\n      <th>5</th>\n      <td>стажер</td>\n      <td>Костров С.О.</td>\n    </tr>\n  </tbody>\n</table>\n</div>"
     },
     "execution_count": 23,
     "metadata": {},
     "output_type": "execute_result"
    }
   ],
   "source": [
    "frame[['Position', 'Name']]"
   ],
   "metadata": {
    "collapsed": false,
    "pycharm": {
     "name": "#%%\n"
    }
   }
  },
  {
   "cell_type": "code",
   "execution_count": 51,
   "outputs": [
    {
     "data": {
      "text/plain": "              Name      Birth    City  Position\n2       Белов М.М. 1980-02-13     NaN  менеджер\n3  Мельникова Д.С. 1985-04-15  Ростов       NaN\n4      Рыбина Е.П. 1985-11-19  Москва   инженер\n5     Костров С.О. 1985-05-31  Москва    стажер",
      "text/html": "<div>\n<style scoped>\n    .dataframe tbody tr th:only-of-type {\n        vertical-align: middle;\n    }\n\n    .dataframe tbody tr th {\n        vertical-align: top;\n    }\n\n    .dataframe thead th {\n        text-align: right;\n    }\n</style>\n<table border=\"1\" class=\"dataframe\">\n  <thead>\n    <tr style=\"text-align: right;\">\n      <th></th>\n      <th>Name</th>\n      <th>Birth</th>\n      <th>City</th>\n      <th>Position</th>\n    </tr>\n  </thead>\n  <tbody>\n    <tr>\n      <th>2</th>\n      <td>Белов М.М.</td>\n      <td>1980-02-13</td>\n      <td>NaN</td>\n      <td>менеджер</td>\n    </tr>\n    <tr>\n      <th>3</th>\n      <td>Мельникова Д.С.</td>\n      <td>1985-04-15</td>\n      <td>Ростов</td>\n      <td>NaN</td>\n    </tr>\n    <tr>\n      <th>4</th>\n      <td>Рыбина Е.П.</td>\n      <td>1985-11-19</td>\n      <td>Москва</td>\n      <td>инженер</td>\n    </tr>\n    <tr>\n      <th>5</th>\n      <td>Костров С.О.</td>\n      <td>1985-05-31</td>\n      <td>Москва</td>\n      <td>стажер</td>\n    </tr>\n  </tbody>\n</table>\n</div>"
     },
     "execution_count": 51,
     "metadata": {},
     "output_type": "execute_result"
    }
   ],
   "source": [
    "frame[2:]"
   ],
   "metadata": {
    "collapsed": false,
    "pycharm": {
     "name": "#%%\n"
    }
   }
  },
  {
   "cell_type": "code",
   "execution_count": 34,
   "outputs": [
    {
     "data": {
      "text/plain": "              Name       City\n1     Сорокин И.В.  Волгоград\n3  Мельникова Д.С.     Ростов\n5     Костров С.О.     Москва",
      "text/html": "<div>\n<style scoped>\n    .dataframe tbody tr th:only-of-type {\n        vertical-align: middle;\n    }\n\n    .dataframe tbody tr th {\n        vertical-align: top;\n    }\n\n    .dataframe thead th {\n        text-align: right;\n    }\n</style>\n<table border=\"1\" class=\"dataframe\">\n  <thead>\n    <tr style=\"text-align: right;\">\n      <th></th>\n      <th>Name</th>\n      <th>City</th>\n    </tr>\n  </thead>\n  <tbody>\n    <tr>\n      <th>1</th>\n      <td>Сорокин И.В.</td>\n      <td>Волгоград</td>\n    </tr>\n    <tr>\n      <th>3</th>\n      <td>Мельникова Д.С.</td>\n      <td>Ростов</td>\n    </tr>\n    <tr>\n      <th>5</th>\n      <td>Костров С.О.</td>\n      <td>Москва</td>\n    </tr>\n  </tbody>\n</table>\n</div>"
     },
     "execution_count": 34,
     "metadata": {},
     "output_type": "execute_result"
    }
   ],
   "source": [
    "frame.loc[(1, 3, 5), ['Name', 'City']]"
   ],
   "metadata": {
    "collapsed": false,
    "pycharm": {
     "name": "#%%\n"
    }
   }
  },
  {
   "cell_type": "code",
   "execution_count": 39,
   "outputs": [
    {
     "data": {
      "text/plain": "              Name       City\n1     Сорокин И.В.  Волгоград\n3  Мельникова Д.С.     Ростов\n5     Костров С.О.     Москва",
      "text/html": "<div>\n<style scoped>\n    .dataframe tbody tr th:only-of-type {\n        vertical-align: middle;\n    }\n\n    .dataframe tbody tr th {\n        vertical-align: top;\n    }\n\n    .dataframe thead th {\n        text-align: right;\n    }\n</style>\n<table border=\"1\" class=\"dataframe\">\n  <thead>\n    <tr style=\"text-align: right;\">\n      <th></th>\n      <th>Name</th>\n      <th>City</th>\n    </tr>\n  </thead>\n  <tbody>\n    <tr>\n      <th>1</th>\n      <td>Сорокин И.В.</td>\n      <td>Волгоград</td>\n    </tr>\n    <tr>\n      <th>3</th>\n      <td>Мельникова Д.С.</td>\n      <td>Ростов</td>\n    </tr>\n    <tr>\n      <th>5</th>\n      <td>Костров С.О.</td>\n      <td>Москва</td>\n    </tr>\n  </tbody>\n</table>\n</div>"
     },
     "execution_count": 39,
     "metadata": {},
     "output_type": "execute_result"
    }
   ],
   "source": [
    "frame.iloc[[1, 3, 5], [0, 2]]"
   ],
   "metadata": {
    "collapsed": false,
    "pycharm": {
     "name": "#%%\n"
    }
   }
  },
  {
   "cell_type": "code",
   "execution_count": 55,
   "outputs": [
    {
     "data": {
      "text/plain": "              Name      Birth    City Position\n3  Мельникова Д.С. 1985-04-15  Ростов      NaN\n4      Рыбина Е.П. 1985-11-19  Москва  инженер\n5     Костров С.О. 1985-05-31  Москва   стажер",
      "text/html": "<div>\n<style scoped>\n    .dataframe tbody tr th:only-of-type {\n        vertical-align: middle;\n    }\n\n    .dataframe tbody tr th {\n        vertical-align: top;\n    }\n\n    .dataframe thead th {\n        text-align: right;\n    }\n</style>\n<table border=\"1\" class=\"dataframe\">\n  <thead>\n    <tr style=\"text-align: right;\">\n      <th></th>\n      <th>Name</th>\n      <th>Birth</th>\n      <th>City</th>\n      <th>Position</th>\n    </tr>\n  </thead>\n  <tbody>\n    <tr>\n      <th>3</th>\n      <td>Мельникова Д.С.</td>\n      <td>1985-04-15</td>\n      <td>Ростов</td>\n      <td>NaN</td>\n    </tr>\n    <tr>\n      <th>4</th>\n      <td>Рыбина Е.П.</td>\n      <td>1985-11-19</td>\n      <td>Москва</td>\n      <td>инженер</td>\n    </tr>\n    <tr>\n      <th>5</th>\n      <td>Костров С.О.</td>\n      <td>1985-05-31</td>\n      <td>Москва</td>\n      <td>стажер</td>\n    </tr>\n  </tbody>\n</table>\n</div>"
     },
     "execution_count": 55,
     "metadata": {},
     "output_type": "execute_result"
    }
   ],
   "source": [
    "frame[frame.Birth >= datetime.datetime(1985, 1, 1)]"
   ],
   "metadata": {
    "collapsed": false,
    "pycharm": {
     "name": "#%%\n"
    }
   }
  }
 ],
 "metadata": {
  "kernelspec": {
   "display_name": "Python 3",
   "language": "python",
   "name": "python3"
  },
  "language_info": {
   "codemirror_mode": {
    "name": "ipython",
    "version": 2
   },
   "file_extension": ".py",
   "mimetype": "text/x-python",
   "name": "python",
   "nbconvert_exporter": "python",
   "pygments_lexer": "ipython2",
   "version": "2.7.6"
  }
 },
 "nbformat": 4,
 "nbformat_minor": 0
}