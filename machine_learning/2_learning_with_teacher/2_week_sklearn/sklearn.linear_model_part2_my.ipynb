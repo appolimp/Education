{
 "cells": [
  {
   "cell_type": "markdown",
   "metadata": {
    "collapsed": true,
    "pycharm": {
     "name": "#%% md\n"
    }
   },
   "source": [
    "## Линейные модели. Часть 2"
   ]
  },
  {
   "cell_type": "code",
   "execution_count": 65,
   "outputs": [],
   "source": [
    "from matplotlib import pyplot as plt\n",
    "from matplotlib.colors import ListedColormap\n",
    "from sklearn import model_selection, datasets, linear_model, metrics\n",
    "\n",
    "import numpy as np\n",
    "\n",
    "%matplotlib inline\n",
    "\n",
    "plt.style.use(['seaborn', 'seaborn-talk'])"
   ],
   "metadata": {
    "collapsed": false,
    "pycharm": {
     "name": "#%%\n"
    }
   }
  },
  {
   "cell_type": "markdown",
   "source": [
    "### Генерация данных"
   ],
   "metadata": {
    "collapsed": false,
    "pycharm": {
     "name": "#%% md\n"
    }
   }
  },
  {
   "cell_type": "code",
   "execution_count": 66,
   "outputs": [
    {
     "data": {
      "text/plain": "<Figure size 748.8x514.8 with 1 Axes>",
      "image/png": "[encoded data removed]"
     },
     "metadata": {},
     "output_type": "display_data"
    }
   ],
   "source": [
    "data, target, coef = datasets.make_regression(n_features=2, n_informative=1, n_targets=1,\n",
    "                                              noise=5., coef=True, random_state=2)\n",
    "\n",
    "plt.scatter(data[:, 0], target, color='r')\n",
    "plt.scatter(data[:, 1], target, color='b')\n",
    "plt.show()"
   ],
   "metadata": {
    "collapsed": false,
    "pycharm": {
     "name": "#%%\n"
    }
   }
  },
  {
   "cell_type": "code",
   "execution_count": 67,
   "outputs": [],
   "source": [
    "train_data, test_data, train_label, test_label = model_selection.train_test_split(data,\n",
    "                                                                                  target,\n",
    "                                                                                  test_size=0.3,\n",
    "                                                                                  random_state=0)"
   ],
   "metadata": {
    "collapsed": false,
    "pycharm": {
     "name": "#%%\n"
    }
   }
  },
  {
   "cell_type": "markdown",
   "source": [
    "### LinearRegression"
   ],
   "metadata": {
    "collapsed": false
   }
  },
  {
   "cell_type": "code",
   "execution_count": 68,
   "outputs": [
    {
     "name": "stdout",
     "output_type": "stream",
     "text": [
      "Средняя абсолютная ошибка: 4.22\n",
      "\n",
      "Формула Базовая:   \tw_1*38.08 + w_2*0.00\n",
      "Формула Полученная:\tw_1*38.81 + w_2*0.65 + -0.72\n"
     ]
    }
   ],
   "source": [
    "linear_regressor = linear_model.LinearRegression()\n",
    "linear_regressor.fit(train_data, train_label)\n",
    "\n",
    "prediction = linear_regressor.predict(test_data)\n",
    "\n",
    "mean = metrics.mean_absolute_error(test_label, prediction)\n",
    "print(f'Средняя абсолютная ошибка: {mean:.2f}')\n",
    "print()\n",
    "\n",
    "lin_coef = linear_regressor.coef_\n",
    "inter = linear_regressor.intercept_\n",
    "print(f'Формула Базовая:   \\tw_1*{coef[0]:.2f} + w_2*{coef[1]:.2f}')\n",
    "print(f'Формула Полученная:\\tw_1*{lin_coef[0]:.2f} + w_2*{lin_coef[1]:.2f} + {inter:.2f}')"
   ],
   "metadata": {
    "collapsed": false,
    "pycharm": {
     "name": "#%%\n"
    }
   }
  },
  {
   "cell_type": "code",
   "execution_count": 69,
   "outputs": [
    {
     "name": "stdout",
     "output_type": "stream",
     "text": [
      "Ridge mean: -4.07, min-max: -6.35 ... -2.79, std: 1.07371\n"
     ]
    }
   ],
   "source": [
    "linear_scoring = model_selection.cross_val_score(linear_regressor, data, target,\n",
    "                                                 scoring='neg_mean_absolute_error',\n",
    "                                                 cv=10)\n",
    "\n",
    "print(f'Ridge mean: {linear_scoring.mean():.2f},',\n",
    "      f'min-max: {linear_scoring.min():.2f} ... {linear_scoring.max():.2f},',\n",
    "      f'std: {linear_scoring.std():.5f}')"
   ],
   "metadata": {
    "collapsed": false,
    "pycharm": {
     "name": "#%%\n"
    }
   }
  },
  {
   "cell_type": "code",
   "execution_count": 70,
   "outputs": [],
   "source": [
    "scorer = metrics.make_scorer(metrics.mean_absolute_error, greater_is_better=True)"
   ],
   "metadata": {
    "collapsed": false,
    "pycharm": {
     "name": "#%%\n"
    }
   }
  },
  {
   "cell_type": "code",
   "execution_count": 71,
   "outputs": [
    {
     "name": "stdout",
     "output_type": "stream",
     "text": [
      "Linear mean: 4.07, min-max: 2.79 ... 6.35, std: 1.07371\n"
     ]
    }
   ],
   "source": [
    "linear_scoring = model_selection.cross_val_score(linear_regressor, data, target,\n",
    "                                                 scoring=scorer, cv=10)\n",
    "\n",
    "print(f'Linear mean: {linear_scoring.mean():.2f},',\n",
    "      f'min-max: {linear_scoring.min():.2f} ... {linear_scoring.max():.2f},',\n",
    "      f'std: {linear_scoring.std():.5f}')"
   ],
   "metadata": {
    "collapsed": false,
    "pycharm": {
     "name": "#%%\n"
    }
   }
  },
  {
   "cell_type": "markdown",
   "source": [
    "### Lasso"
   ],
   "metadata": {
    "collapsed": false,
    "pycharm": {
     "name": "#%% md\n"
    }
   }
  },
  {
   "cell_type": "code",
   "execution_count": 72,
   "outputs": [
    {
     "name": "stdout",
     "output_type": "stream",
     "text": [
      "Средняя абсолютная ошибка: 3.89\n",
      "\n",
      "Формула Базовая:   \tw_1*38.08 + w_2*0.00\n",
      "Формула Полученная:\tw_1*37.85 + w_2*0.00 + -0.78\n",
      "\n",
      "Lasso mean: 4.15, min-max: 2.88 ... 6.07, std: 1.01704\n"
     ]
    }
   ],
   "source": [
    "lasso_regressor = linear_model.Lasso(random_state=3)\n",
    "lasso_regressor.fit(train_data, train_label)\n",
    "lasso_prediction = lasso_regressor.predict(test_data)\n",
    "\n",
    "mean = metrics.mean_absolute_error(test_label, lasso_prediction)\n",
    "print(f'Средняя абсолютная ошибка: {mean:.2f}')\n",
    "print()\n",
    "\n",
    "lasso_coef = lasso_regressor.coef_\n",
    "inter = lasso_regressor.intercept_\n",
    "print(f'Формула Базовая:   \\tw_1*{coef[0]:.2f} + w_2*{coef[1]:.2f}')\n",
    "print(f'Формула Полученная:\\tw_1*{lasso_coef[0]:.2f} + w_2*{lasso_coef[1]:.2f} + {inter:.2f}')\n",
    "print()\n",
    "\n",
    "lasso_scoring = model_selection.cross_val_score(lasso_regressor, data, target,\n",
    "                                                scoring=scorer, cv=10)\n",
    "\n",
    "print(f'Lasso mean: {lasso_scoring.mean():.2f},',\n",
    "      f'min-max: {lasso_scoring.min():.2f} ... {lasso_scoring.max():.2f},',\n",
    "      f'std: {lasso_scoring.std():.5f}')"
   ],
   "metadata": {
    "collapsed": false,
    "pycharm": {
     "name": "#%%\n"
    }
   }
  }
 ],
 "metadata": {
  "kernelspec": {
   "display_name": "Python 3",
   "language": "python",
   "name": "python3"
  },
  "language_info": {
   "codemirror_mode": {
    "name": "ipython",
    "version": 2
   },
   "file_extension": ".py",
   "mimetype": "text/x-python",
   "name": "python",
   "nbconvert_exporter": "python",
   "pygments_lexer": "ipython2",
   "version": "2.7.6"
  }
 },
 "nbformat": 4,
 "nbformat_minor": 0
}