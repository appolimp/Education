{
 "cells": [
  {
   "cell_type": "markdown",
   "metadata": {
    "collapsed": true,
    "pycharm": {
     "name": "#%% md\n"
    }
   },
   "source": [
    "## Sklearn.grid_search"
   ]
  },
  {
   "cell_type": "code",
   "execution_count": 1,
   "outputs": [],
   "source": [
    "import warnings\n",
    "warnings.filterwarnings('ignore')\n",
    "\n",
    "from sklearn import model_selection, datasets, linear_model, metrics\n",
    "\n",
    "import numpy as np\n",
    "import pandas as pd"
   ],
   "metadata": {
    "collapsed": false,
    "pycharm": {
     "name": "#%%\n"
    }
   }
  },
  {
   "cell_type": "markdown",
   "source": [
    "### Генерация датасета"
   ],
   "metadata": {
    "collapsed": false,
    "pycharm": {
     "name": "#%% md\n"
    }
   }
  },
  {
   "cell_type": "code",
   "execution_count": 2,
   "outputs": [],
   "source": [
    "iris = datasets.load_iris()\n",
    "train_data, test_data, train_label, test_label = model_selection.train_test_split(iris.data, iris.target,\n",
    "                                                                                  test_size=0.3, random_state=0)"
   ],
   "metadata": {
    "collapsed": false,
    "pycharm": {
     "name": "#%%\n"
    }
   }
  },
  {
   "cell_type": "markdown",
   "source": [
    "### Задание модели"
   ],
   "metadata": {
    "collapsed": false
   }
  },
  {
   "cell_type": "code",
   "execution_count": 3,
   "outputs": [
    {
     "name": "stdout",
     "output_type": "stream",
     "text": [
      "('alpha', 0.0001)\n",
      "('average', False)\n",
      "('class_weight', None)\n",
      "('early_stopping', False)\n",
      "('epsilon', 0.1)\n",
      "('eta0', 0.0)\n",
      "('fit_intercept', True)\n",
      "('l1_ratio', 0.15)\n",
      "('learning_rate', 'optimal')\n",
      "('loss', 'hinge')\n",
      "('max_iter', 1000)\n",
      "('n_iter_no_change', 5)\n",
      "('n_jobs', None)\n",
      "('penalty', 'l2')\n",
      "('power_t', 0.5)\n",
      "('random_state', 0)\n",
      "('shuffle', True)\n",
      "('tol', 0.001)\n",
      "('validation_fraction', 0.1)\n",
      "('verbose', 0)\n",
      "('warm_start', False)\n"
     ]
    }
   ],
   "source": [
    "classifier = linear_model.SGDClassifier(random_state=0, tol=1e-3)\n",
    "\n",
    "# Генерация сетки\n",
    "print(*classifier.get_params().items(), sep='\\n')"
   ],
   "metadata": {
    "collapsed": false,
    "pycharm": {
     "name": "#%%\n"
    }
   }
  },
  {
   "cell_type": "markdown",
   "source": [
    "### Генерация сетки"
   ],
   "metadata": {
    "collapsed": false,
    "pycharm": {
     "name": "#%% md\n"
    }
   }
  },
  {
   "cell_type": "code",
   "execution_count": 4,
   "outputs": [],
   "source": [
    "parameter_grid = {\n",
    "    'loss': ['hinge', 'log', 'squared_hinge', 'squared_loss'],\n",
    "    'penalty': ['l1', 'l2'],\n",
    "    'max_iter': np.arange(5, 10),\n",
    "    'alpha': np.linspace(0.0001, 0.001, num=5)\n",
    "}\n",
    "\n",
    "cv = model_selection.StratifiedShuffleSplit(n_splits=10, test_size=0.2, random_state=0)"
   ],
   "metadata": {
    "collapsed": false,
    "pycharm": {
     "name": "#%%\n"
    }
   }
  },
  {
   "cell_type": "markdown",
   "source": [
    "### Подбор параметров и оценка качества\n",
    "\n",
    "##### Grid search"
   ],
   "metadata": {
    "collapsed": false
   }
  },
  {
   "cell_type": "code",
   "execution_count": 5,
   "outputs": [],
   "source": [
    "grid_cv = model_selection.GridSearchCV(classifier, parameter_grid, scoring='accuracy', cv=cv)"
   ],
   "metadata": {
    "collapsed": false,
    "pycharm": {
     "name": "#%%\n"
    }
   }
  },
  {
   "cell_type": "code",
   "execution_count": 6,
   "outputs": [
    {
     "name": "stdout",
     "output_type": "stream",
     "text": [
      "Wall time: 6.06 s\n"
     ]
    },
    {
     "data": {
      "text/plain": "GridSearchCV(cv=StratifiedShuffleSplit(n_splits=10, random_state=0, test_size=0.2,\n            train_size=None),\n             estimator=SGDClassifier(random_state=0),\n             param_grid={'alpha': array([0.0001  , 0.000325, 0.00055 , 0.000775, 0.001   ]),\n                         'loss': ['hinge', 'log', 'squared_hinge',\n                                  'squared_loss'],\n                         'max_iter': array([5, 6, 7, 8, 9]),\n                         'penalty': ['l1', 'l2']},\n             scoring='accuracy')"
     },
     "execution_count": 6,
     "metadata": {},
     "output_type": "execute_result"
    }
   ],
   "source": [
    "%%time\n",
    "grid_cv.fit(train_data, train_label)"
   ],
   "metadata": {
    "collapsed": false,
    "pycharm": {
     "name": "#%%\n"
    }
   }
  },
  {
   "cell_type": "code",
   "execution_count": 20,
   "outputs": [
    {
     "name": "stdout",
     "output_type": "stream",
     "text": [
      "SGDClassifier(alpha=0.0007750000000000001, max_iter=9, penalty='l1',\n",
      "              random_state=0)\n",
      "0.9047619047619048\n",
      "{'alpha': 0.0007750000000000001, 'loss': 'hinge', 'max_iter': 9, 'penalty': 'l1'}\n",
      "\n",
      "mean_fit_time: [0.00209348 0.00189419 0.00169585]\n",
      "std_fit_time: [0.00030552 0.00029881 0.00045663]\n",
      "mean_score_time: [3.04102898e-04 9.97304916e-05 2.98833847e-04]\n",
      "std_score_time: [0.00046453 0.00029919 0.00045648]\n",
      "param_alpha: [0.0001 0.0001 0.0001]\n",
      "param_loss: ['hinge' 'hinge' 'hinge']\n",
      "param_max_iter: [5 5 6]\n",
      "param_penalty: ['l1' 'l2' 'l1']\n",
      "params: [{'alpha': 0.0001, 'loss': 'hinge', 'max_iter': 5, 'penalty': 'l1'}, {'alpha': 0.0001, 'loss': 'hinge', 'max_iter': 5, 'penalty': 'l2'}, {'alpha': 0.0001, 'loss': 'hinge', 'max_iter': 6, 'penalty': 'l1'}]\n",
      "split0_test_score: [0.76190476 0.71428571 0.71428571]\n",
      "split1_test_score: [0.80952381 0.61904762 0.76190476]\n",
      "split2_test_score: [0.52380952 0.38095238 0.71428571]\n",
      "split3_test_score: [0.61904762 0.61904762 0.71428571]\n",
      "split4_test_score: [0.47619048 0.71428571 0.76190476]\n",
      "split5_test_score: [0.57142857 0.33333333 0.71428571]\n",
      "split6_test_score: [1.         0.71428571 0.71428571]\n",
      "split7_test_score: [0.33333333 0.71428571 0.28571429]\n",
      "split8_test_score: [0.71428571 0.71428571 1.        ]\n",
      "split9_test_score: [0.76190476 0.71428571 0.61904762]\n",
      "mean_test_score: [0.65714286 0.62380952 0.7       ]\n",
      "std_test_score: [0.18170271 0.1387505  0.16639434]\n",
      "rank_test_score: [139 144 118]\n"
     ]
    }
   ],
   "source": [
    "print(grid_cv.best_estimator_)\n",
    "\n",
    "print(grid_cv.best_score_)\n",
    "print(grid_cv.best_params_)\n",
    "\n",
    "print()\n",
    "print(*(f'{k}: {val[:3]}' for k, val in grid_cv.cv_results_.items()), sep='\\n')"
   ],
   "metadata": {
    "collapsed": false,
    "pycharm": {
     "name": "#%%\n"
    }
   }
  },
  {
   "cell_type": "markdown",
   "source": [
    "#### Randomized grid search"
   ],
   "metadata": {
    "collapsed": false
   }
  },
  {
   "cell_type": "code",
   "execution_count": 21,
   "outputs": [],
   "source": [
    "randomized_grid_cv = model_selection.RandomizedSearchCV(classifier, parameter_grid,\n",
    "                                                        scoring='accuracy', cv=cv,\n",
    "                                                        n_iter=20, random_state=0)"
   ],
   "metadata": {
    "collapsed": false,
    "pycharm": {
     "name": "#%%\n"
    }
   }
  },
  {
   "cell_type": "code",
   "execution_count": 22,
   "outputs": [
    {
     "name": "stdout",
     "output_type": "stream",
     "text": [
      "Wall time: 748 ms\n"
     ]
    },
    {
     "data": {
      "text/plain": "RandomizedSearchCV(cv=StratifiedShuffleSplit(n_splits=10, random_state=0, test_size=0.2,\n            train_size=None),\n                   estimator=SGDClassifier(random_state=0), n_iter=20,\n                   param_distributions={'alpha': array([0.0001  , 0.000325, 0.00055 , 0.000775, 0.001   ]),\n                                        'loss': ['hinge', 'log',\n                                                 'squared_hinge',\n                                                 'squared_loss'],\n                                        'max_iter': array([5, 6, 7, 8, 9]),\n                                        'penalty': ['l1', 'l2']},\n                   random_state=0, scoring='accuracy')"
     },
     "execution_count": 22,
     "metadata": {},
     "output_type": "execute_result"
    }
   ],
   "source": [
    "%%time\n",
    "randomized_grid_cv.fit(train_data, train_label)"
   ],
   "metadata": {
    "collapsed": false,
    "pycharm": {
     "name": "#%%\n"
    }
   }
  },
  {
   "cell_type": "code",
   "execution_count": 23,
   "outputs": [
    {
     "name": "stdout",
     "output_type": "stream",
     "text": [
      "SGDClassifier(alpha=0.0007750000000000001, loss='squared_hinge', max_iter=8,\n",
      "              penalty='l1', random_state=0)\n",
      "0.8666666666666666\n",
      "{'penalty': 'l1', 'max_iter': 8, 'loss': 'squared_hinge', 'alpha': 0.0007750000000000001}\n",
      "\n",
      "mean_fit_time: [0.00289078 0.00379136 0.00239418]\n",
      "std_fit_time: [0.0008249  0.00146638 0.00048927]\n",
      "mean_score_time: [0.0003011  0.00069668 0.00019941]\n",
      "std_score_time: [0.00045997 0.0004561  0.00039883]\n",
      "param_penalty: ['l1' 'l1' 'l2']\n",
      "param_max_iter: [9 5 8]\n",
      "param_loss: ['log' 'log' 'squared_hinge']\n",
      "param_alpha: [0.0001 0.001 0.00055]\n",
      "params: [{'penalty': 'l1', 'max_iter': 9, 'loss': 'log', 'alpha': 0.0001}, {'penalty': 'l1', 'max_iter': 5, 'loss': 'log', 'alpha': 0.001}, {'penalty': 'l2', 'max_iter': 8, 'loss': 'squared_hinge', 'alpha': 0.00055}]\n",
      "split0_test_score: [0.71428571 0.95238095 0.9047619 ]\n",
      "split1_test_score: [0.71428571 0.85714286 0.85714286]\n",
      "split2_test_score: [0.71428571 0.66666667 0.95238095]\n",
      "split3_test_score: [0.71428571 0.71428571 0.9047619 ]\n",
      "split4_test_score: [0.61904762 0.66666667 0.57142857]\n",
      "split5_test_score: [0.95238095 0.61904762 0.42857143]\n",
      "split6_test_score: [0.76190476 1.         0.71428571]\n",
      "split7_test_score: [1.         0.76190476 0.95238095]\n",
      "split8_test_score: [0.71428571 0.71428571 0.95238095]\n",
      "split9_test_score: [0.9047619  0.95238095 0.71428571]\n",
      "mean_test_score: [0.78095238 0.79047619 0.7952381 ]\n",
      "std_test_score: [0.11895234 0.13162167 0.17307411]\n",
      "rank_test_score: [7 6 4]\n"
     ]
    }
   ],
   "source": [
    "print(randomized_grid_cv.best_estimator_)\n",
    "\n",
    "print(randomized_grid_cv.best_score_)\n",
    "print(randomized_grid_cv.best_params_)\n",
    "\n",
    "print()\n",
    "print(*(f'{k}: {val[:3]}' for k, val in randomized_grid_cv.cv_results_.items()), sep='\\n')"
   ],
   "metadata": {
    "collapsed": false,
    "pycharm": {
     "name": "#%%\n"
    }
   }
  }
 ],
 "metadata": {
  "kernelspec": {
   "display_name": "Python 3",
   "language": "python",
   "name": "python3"
  },
  "language_info": {
   "codemirror_mode": {
    "name": "ipython",
    "version": 2
   },
   "file_extension": ".py",
   "mimetype": "text/x-python",
   "name": "python",
   "nbconvert_exporter": "python",
   "pygments_lexer": "ipython2",
   "version": "2.7.6"
  }
 },
 "nbformat": 4,
 "nbformat_minor": 0
}