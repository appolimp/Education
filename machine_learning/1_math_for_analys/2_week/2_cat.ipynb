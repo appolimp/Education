{
 "cells": [
  {
   "cell_type": "code",
   "execution_count": 6,
   "metadata": {
    "collapsed": true
   },
   "outputs": [],
   "source": [
    "import re\n",
    "import numpy as np\n",
    "from scipy.spatial.distance import cosine"
   ]
  },
  {
   "cell_type": "code",
   "execution_count": 2,
   "outputs": [],
   "source": [
    "with open('sentences.txt') as f:\n",
    "    data = []\n",
    "    data_set = set()\n",
    "    for line in f:\n",
    "        split_line = re.split(r'[^a-z]', line.lower())\n",
    "        clear_line = [word for word in split_line if word != '']\n",
    "\n",
    "        data.append(clear_line)\n",
    "        data_set |= set(clear_line)"
   ],
   "metadata": {
    "collapsed": false,
    "pycharm": {
     "name": "#%% Read file\n"
    }
   }
  },
  {
   "cell_type": "code",
   "execution_count": 4,
   "outputs": [
    {
     "name": "stdout",
     "output_type": "stream",
     "text": [
      "(22, 254)\n"
     ]
    }
   ],
   "source": [
    "index_word = list(data_set)\n",
    "\n",
    "i_data = [[line.count(word_set) for word_set in index_word] for line in data]\n",
    "\n",
    "num_data = np.array(i_data)\n",
    "print(num_data.shape)"
   ],
   "metadata": {
    "collapsed": false,
    "pycharm": {
     "name": "#%% Create set\n"
    }
   }
  },
  {
   "cell_type": "code",
   "execution_count": 21,
   "outputs": [
    {
     "data": {
      "text/plain": "[0.0,\n 0.9527544408738466,\n 0.8644738145642124,\n 0.8951715163278082,\n 0.7770887149698589,\n 0.9402385695332803,\n 0.7327387580875756,\n 0.9258750683338899,\n 0.8842724875284311,\n 0.9055088817476932,\n 0.8328165362273942,\n 0.8804771390665607,\n 0.8396432548525454,\n 0.8703592552895671,\n 0.8740118423302576,\n 0.9442721787424647,\n 0.8406361854220809,\n 0.956644501523794,\n 0.9442721787424647,\n 0.8885443574849294,\n 0.8427572744917122,\n 0.8250364469440588]"
     },
     "execution_count": 21,
     "metadata": {},
     "output_type": "execute_result"
    }
   ],
   "source": [
    "dist = [cosine(num_data[0], line) for line in num_data]\n",
    "dist"
   ],
   "metadata": {
    "collapsed": false,
    "pycharm": {
     "name": "#%%\n"
    }
   }
  },
  {
   "cell_type": "code",
   "execution_count": 25,
   "outputs": [
    {
     "data": {
      "text/plain": "[4, 6]"
     },
     "execution_count": 25,
     "metadata": {},
     "output_type": "execute_result"
    }
   ],
   "source": [
    "max_2 = sorted(dist)[1:3]\n",
    "num_line = sorted((dist.index(distance)) for distance in max_2)\n",
    "num_line"
   ],
   "metadata": {
    "collapsed": false,
    "pycharm": {
     "name": "#%%\n"
    }
   }
  },
  {
   "cell_type": "code",
   "execution_count": 29,
   "outputs": [],
   "source": [
    "with open('submission-1.txt', 'w') as f:\n",
    "    str_line = ' '.join(str(i) for i in num_line)\n",
    "    f.write(str_line)"
   ],
   "metadata": {
    "collapsed": false,
    "pycharm": {
     "name": "#%%\n"
    }
   }
  }
 ],
 "metadata": {
  "kernelspec": {
   "display_name": "Python 3",
   "language": "python",
   "name": "python3"
  },
  "language_info": {
   "codemirror_mode": {
    "name": "ipython",
    "version": 2
   },
   "file_extension": ".py",
   "mimetype": "text/x-python",
   "name": "python",
   "nbconvert_exporter": "python",
   "pygments_lexer": "ipython2",
   "version": "2.7.6"
  }
 },
 "nbformat": 4,
 "nbformat_minor": 0
}