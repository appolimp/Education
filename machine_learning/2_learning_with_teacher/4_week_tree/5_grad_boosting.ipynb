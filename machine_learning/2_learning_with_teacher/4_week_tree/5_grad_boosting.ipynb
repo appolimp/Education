{
 "cells": [
  {
   "cell_type": "markdown",
   "metadata": {},
   "source": [
    "# Градиентный бустинг своими руками\n",
    "\n",
    "**Внимание:** в тексте задания произошли изменения - поменялось число деревьев (теперь 50), правило изменения величины шага в задании 3 и добавился параметр `random_state` у решающего дерева. Правильные ответы не поменялись, но теперь их проще получить. Также исправлена опечатка в функции `gbm_predict`.\n",
    "\n",
    "В этом задании будет использоваться датасет `boston` из `sklearn.datasets`. Оставьте последние 25% объектов для контроля качества, разделив `X` и `y` на `X_train`, `y_train` и `X_test`, `y_test`.\n",
    "\n",
    "Целью задания будет реализовать простой вариант градиентного бустинга над регрессионными деревьями для случая квадратичной функции потерь."
   ]
  },
  {
   "cell_type": "code",
   "execution_count": 37,
   "metadata": {
    "collapsed": true
   },
   "outputs": [],
   "source": [
    "from sklearn import model_selection, metrics, ensemble, datasets, tree, linear_model\n",
    "import warnings\n",
    "import matplotlib.pyplot as plt\n",
    "import numpy as np\n",
    "import pandas as pd\n",
    "import xgboost as xgb\n",
    "\n",
    "%matplotlib inline\n",
    "plt.style.use(['seaborn', 'seaborn-talk'])\n",
    "\n",
    "warnings.filterwarnings('ignore')"
   ]
  },
  {
   "cell_type": "code",
   "execution_count": 2,
   "outputs": [
    {
     "name": "stdout",
     "output_type": "stream",
     "text": [
      ".. _boston_dataset:\n",
      "\n",
      "Boston house prices dataset\n",
      "---------------------------\n",
      "\n",
      "**Data Set Characteristics:**  \n",
      "\n",
      "    :Number of Instances: 506 \n",
      "\n",
      "    :Number of Attributes: 13 numeric/categorical predictive. Median Value (attribute 14) is usually the target.\n",
      "\n",
      "    :Attribute Information (in order):\n",
      "        - CRIM     per capita crime rate by town\n",
      "        - ZN       proportion of residential land zoned for lots over 25,000 sq.ft.\n",
      "        - INDUS    proportion of non-retail business acres per town\n",
      "        - CHAS     Charles River dummy variable (= 1 if tract bounds river; 0 otherwise)\n",
      "        - NOX      nitric oxides concentration (parts per 10 million)\n",
      "        - RM       average number of rooms per dwelling\n",
      "        - AGE      proportion of owner-occupied units built prior to 1940\n",
      "        - DIS      weighted distances to five Boston employment centres\n",
      "        - RAD      index of accessibility to radial highways\n",
      "        - TAX      full-value property-tax rate per $10,000\n",
      "        - PTRATIO  pupil-teacher ratio by town\n",
      "        - B        1000(Bk - 0.63)^2 where Bk is the proportion of blacks by town\n",
      "        - LSTAT    % lower status of the population\n",
      "        - MEDV     Median value of owner-occupied homes in $1000's\n",
      "\n",
      "    :Missing Attribute Values: None\n",
      "\n",
      "    :Creator: Harrison, D. and Rubinfeld, D.L.\n",
      "\n",
      "This is a copy of UCI ML housing dataset.\n",
      "https://archive.ics.uci.edu/ml/machine-learning-databases/housing/\n",
      "\n",
      "\n",
      "This dataset was taken from the StatLib library which is maintained at Carnegie Mellon University.\n",
      "\n",
      "The Boston house-price data of Harrison, D. and Rubinfeld, D.L. 'Hedonic\n",
      "prices and the demand for clean air', J. Environ. Economics & Management,\n",
      "vol.5, 81-102, 1978.   Used in Belsley, Kuh & Welsch, 'Regression diagnostics\n",
      "...', Wiley, 1980.   N.B. Various transformations are used in the table on\n",
      "pages 244-261 of the latter.\n",
      "\n",
      "The Boston house-price data has been used in many machine learning papers that address regression\n",
      "problems.   \n",
      "     \n",
      ".. topic:: References\n",
      "\n",
      "   - Belsley, Kuh & Welsch, 'Regression diagnostics: Identifying Influential Data and Sources of Collinearity', Wiley, 1980. 244-261.\n",
      "   - Quinlan,R. (1993). Combining Instance-Based and Model-Based Learning. In Proceedings on the Tenth International Conference of Machine Learning, 236-243, University of Massachusetts, Amherst. Morgan Kaufmann.\n",
      "\n"
     ]
    }
   ],
   "source": [
    "data = datasets.load_boston()\n",
    "print(data.DESCR)"
   ],
   "metadata": {
    "collapsed": false,
    "pycharm": {
     "name": "#%%\n"
    }
   }
  },
  {
   "cell_type": "code",
   "execution_count": 3,
   "outputs": [],
   "source": [
    "data_df = pd.DataFrame(data.data, columns=data.feature_names).to_numpy()"
   ],
   "metadata": {
    "collapsed": false,
    "pycharm": {
     "name": "#%%\n"
    }
   }
  },
  {
   "cell_type": "code",
   "execution_count": 4,
   "outputs": [
    {
     "name": "stdout",
     "output_type": "stream",
     "text": [
      "(379, 13) (127, 13) (379,) (127,)\n"
     ]
    }
   ],
   "source": [
    "count = int(len(data_df) * 0.75)\n",
    "\n",
    "X_train, X_test = data_df[:count], data_df[count:]\n",
    "y_train, y_test = data.target[:count], data.target[count:]\n",
    "\n",
    "print(X_train.shape, X_test.shape, y_train.shape, y_test.shape)"
   ],
   "metadata": {
    "collapsed": false,
    "pycharm": {
     "name": "#%%\n"
    }
   }
  },
  {
   "cell_type": "markdown",
   "metadata": {},
   "source": [
    "## Задание 1\n",
    "\n",
    "Как вы уже знаете из лекций, **бустинг** - это метод построения композиций базовых алгоритмов с помощью последовательного добавления к текущей композиции нового алгоритма с некоторым коэффициентом. \n",
    "\n",
    "Градиентный бустинг обучает каждый новый алгоритм так, чтобы он приближал антиградиент ошибки по ответам композиции на обучающей выборке. Аналогично минимизации функций методом градиентного спуска, в градиентном бустинге мы подправляем композицию, изменяя алгоритм в направлении антиградиента ошибки.\n",
    "\n",
    "Воспользуйтесь формулой из лекций, задающей ответы на обучающей выборке, на которые нужно обучать новый алгоритм (фактически это лишь чуть более подробно расписанный градиент от ошибки), и получите частный ее случай, если функция потерь `L` - квадрат отклонения ответа композиции `a(x)` от правильного ответа `y` на данном `x`.\n",
    "\n",
    "Если вы давно не считали производную самостоятельно, вам поможет таблица производных элементарных функций (которую несложно найти в интернете) и правило дифференцирования сложной функции. После дифференцирования квадрата у вас возникнет множитель 2 — т.к. нам все равно предстоит выбирать коэффициент, с которым будет добавлен новый базовый алгоритм, проигноируйте этот множитель при дальнейшем построении алгоритма."
   ]
  },
  {
   "cell_type": "code",
   "execution_count": 5,
   "metadata": {
    "collapsed": true
   },
   "outputs": [],
   "source": [
    "def calc_shift(current_value, target_value):\n",
    "    return -(current_value - target_value)\n"
   ]
  },
  {
   "cell_type": "markdown",
   "metadata": {},
   "source": [
    "## Задание 2\n",
    "\n",
    "Заведите массив для объектов `DecisionTreeRegressor` (будем их использовать в качестве базовых алгоритмов) и для вещественных чисел (это будут коэффициенты перед базовыми алгоритмами). \n",
    "\n",
    "В цикле обучите последовательно 50 решающих деревьев с параметрами `max_depth=5` и `random_state=42` (остальные параметры - по умолчанию). В бустинге зачастую используются сотни и тысячи деревьев, но мы ограничимся 50, чтобы алгоритм работал быстрее, и его было проще отлаживать (т.к. цель задания разобраться, как работает метод). Каждое дерево должно обучаться на одном и том же множестве объектов, но ответы, которые учится прогнозировать дерево, будут меняться в соответствие с полученным в задании 1 правилом.\n",
    "\n",
    "Попробуйте для начала всегда брать коэффициент равным 0.9. Обычно оправдано выбирать коэффициент значительно меньшим - порядка 0.05 или 0.1, но т.к. в нашем учебном примере на стандартном датасете будет всего 50 деревьев, возьмем для начала шаг побольше.\n",
    "\n",
    "В процессе реализации обучения вам потребуется функция, которая будет вычислять прогноз построенной на данный момент композиции деревьев на выборке `X`:\n",
    "\n",
    "```\n",
    "def gbm_predict(X):\n",
    "    return [sum([coeff * algo.predict([x])[0] for algo, coeff in zip(base_algorithms_list, coefficients_list)]) for x in X]\n",
    "(считаем, что base_algorithms_list - список с базовыми алгоритмами, coefficients_list - список с коэффициентами перед алгоритмами)\n",
    "```\n",
    "\n",
    "Эта же функция поможет вам получить прогноз на контрольной выборке и оценить качество работы вашего алгоритма с помощью `mean_squared_error` в `sklearn.metrics`. \n",
    "\n",
    "Возведите результат в степень 0.5, чтобы получить `RMSE`. Полученное значение `RMSE` — **ответ в пункте 2**."
   ]
  },
  {
   "cell_type": "code",
   "execution_count": 6,
   "metadata": {
    "collapsed": true
   },
   "outputs": [
    {
     "name": "stdout",
     "output_type": "stream",
     "text": [
      "29.763826724740735\n",
      "Wall time: 30.6 s\n"
     ]
    }
   ],
   "source": [
    "%%time\n",
    "def gbm_predict(X):\n",
    "    return [sum([coeff * algo.predict([x])[0] for algo, coeff in zip(trees_reg, coef)]) for x in X]\n",
    "\n",
    "trees_reg = []\n",
    "coef = []\n",
    "\n",
    "current_target = y_train\n",
    "for _ in range(50):\n",
    "    # print(np.round(current_target[:10], 2))\n",
    "    regressor = tree.DecisionTreeRegressor(max_depth=5, random_state=42)\n",
    "    regressor.fit(X_train, current_target)\n",
    "\n",
    "    trees_reg.append(regressor)\n",
    "    coef.append(0.9)\n",
    "\n",
    "    predict = gbm_predict(X_train)\n",
    "    current_target = calc_shift(predict, y_train)\n",
    "\n",
    "predict = gbm_predict(X_test)\n",
    "score = metrics.mean_squared_error(y_test, predict)\n",
    "print(score)"
   ]
  },
  {
   "cell_type": "code",
   "execution_count": 7,
   "outputs": [
    {
     "name": "stdout",
     "output_type": "stream",
     "text": [
      "[10.2 10.4 10.9 11.3 12.3  8.8  7.2 10.5  7.4 10.2]\n",
      "[14.1 15.5 14.1 15.7 15.1 17.1 15.4 15.4 17.7 15.4]\n"
     ]
    }
   ],
   "source": [
    "print(y_test[:10])\n",
    "print(np.round(predict[:10], 1))"
   ],
   "metadata": {
    "collapsed": false,
    "pycharm": {
     "name": "#%%\n"
    }
   }
  },
  {
   "cell_type": "code",
   "execution_count": 8,
   "outputs": [
    {
     "name": "stdout",
     "output_type": "stream",
     "text": [
      "2 5.455623403859612\n"
     ]
    }
   ],
   "source": [
    "def write_answer(number, value):\n",
    "    with open(f\"5_{number}_grad_boosting.txt\", \"w\") as file:\n",
    "        print(number, value)\n",
    "        file.write(str(value))\n",
    "\n",
    "write_answer(2, score**0.5)"
   ],
   "metadata": {
    "collapsed": false,
    "pycharm": {
     "name": "#%%\n"
    }
   }
  },
  {
   "cell_type": "markdown",
   "metadata": {},
   "source": [
    "## Задание 3\n",
    "\n",
    "Вас может также беспокоить, что двигаясь с постоянным шагом, вблизи минимума ошибки ответы на обучающей выборке меняются слишком резко, перескакивая через минимум. \n",
    "\n",
    "Попробуйте уменьшать вес перед каждым алгоритмом с каждой следующей итерацией по формуле `0.9 / (1.0 + i)`, где `i` - номер итерации (от 0 до 49). Используйте качество работы алгоритма как **ответ в пункте 3**. \n",
    "\n",
    "В реальности часто применяется следующая стратегия выбора шага: как только выбран алгоритм, подберем коэффициент перед ним численным методом оптимизации таким образом, чтобы отклонение от правильных ответов было минимальным. Мы не будем предлагать вам реализовать это для выполнения задания, но рекомендуем попробовать разобраться с такой стратегией и реализовать ее при случае для себя."
   ]
  },
  {
   "cell_type": "code",
   "execution_count": 9,
   "metadata": {
    "collapsed": true
   },
   "outputs": [
    {
     "name": "stdout",
     "output_type": "stream",
     "text": [
      "23.160646605739455\n",
      "Wall time: 31 s\n"
     ]
    }
   ],
   "source": [
    "%%time\n",
    "trees_reg = []\n",
    "coef = []\n",
    "\n",
    "current_target = y_train\n",
    "for _ in range(50):\n",
    "    # print(np.round(current_target[:10], 2))\n",
    "    regressor = tree.DecisionTreeRegressor(max_depth=5, random_state=42)\n",
    "    regressor.fit(X_train, current_target)\n",
    "\n",
    "    trees_reg.append(regressor)\n",
    "    coef.append(0.9 / (1.0 + len(coef)))\n",
    "\n",
    "    predict = gbm_predict(X_train)\n",
    "    current_target = calc_shift(predict, y_train)\n",
    "\n",
    "predict = gbm_predict(X_test)\n",
    "score = metrics.mean_squared_error(y_test, predict)\n",
    "print(score)"
   ]
  },
  {
   "cell_type": "code",
   "execution_count": 10,
   "outputs": [
    {
     "name": "stdout",
     "output_type": "stream",
     "text": [
      "[10.2 10.4 10.9 11.3 12.3  8.8  7.2 10.5  7.4 10.2]\n",
      "[14.1 14.9 14.6 15.5 15.5 16.2 14.6 14.7 15.2 15.4]\n",
      "3 4.812550945781193\n"
     ]
    }
   ],
   "source": [
    "print(y_test[:10])\n",
    "print(np.round(predict[:10], 1))\n",
    "write_answer(3, score**0.5)"
   ],
   "metadata": {
    "collapsed": false,
    "pycharm": {
     "name": "#%%\n"
    }
   }
  },
  {
   "cell_type": "markdown",
   "metadata": {},
   "source": [
    "## Задание 4\n",
    "\n",
    "Реализованный вами метод - градиентный бустинг над деревьями - очень популярен в машинном обучении. Он представлен как в самой библиотеке `sklearn`, так и в сторонней библиотеке `XGBoost`, которая имеет свой питоновский интерфейс. На практике `XGBoost` работает заметно лучше `GradientBoostingRegressor` из `sklearn`, но для этого задания вы можете использовать любую реализацию. \n",
    "\n",
    "Исследуйте, переобучается ли градиентный бустинг с ростом числа итераций (и подумайте, почему), а также с ростом глубины деревьев. На основе наблюдений выпишите через пробел номера правильных из приведенных ниже утверждений в порядке возрастания номера (это будет **ответ в п.4**):\n",
    "\n",
    "    1. С увеличением числа деревьев, начиная с некоторого момента, качество работы градиентного бустинга не меняется существенно.\n",
    "\n",
    "    2. С увеличением числа деревьев, начиная с некоторого момента, градиентный бустинг начинает переобучаться.\n",
    "\n",
    "    3. С ростом глубины деревьев, начиная с некоторого момента, качество работы градиентного бустинга на тестовой выборке начинает ухудшаться.\n",
    "\n",
    "    4. С ростом глубины деревьев, начиная с некоторого момента, качество работы градиентного бустинга перестает существенно изменяться"
   ]
  },
  {
   "cell_type": "code",
   "execution_count": 27,
   "metadata": {
    "collapsed": true
   },
   "outputs": [
    {
     "name": "stdout",
     "output_type": "stream",
     "text": [
      "1: 156.0388 vs 35.1264\n",
      "5: 27.0801 vs 48.8009\n",
      "10: 19.1396 vs 43.2760\n",
      "30: 25.7069 vs 23.3360\n",
      "50: 25.3355 vs 24.5260\n",
      "70: 25.1250 vs 23.2346\n",
      "100: 25.1163 vs 23.4531\n",
      "150: 25.2021 vs 34.0919\n",
      "Wall time: 7min 49s\n"
     ]
    }
   ],
   "source": [
    "%%time\n",
    "n_trees = [1, 5, 10] + [30, 50, 70] + [100, 150]\n",
    "scores_tree = []\n",
    "scores_xgb_tree = []\n",
    "for n_tree in n_trees:\n",
    "    trees_reg = []\n",
    "    coef = []\n",
    "    current_target = y_train\n",
    "\n",
    "    for _ in range(n_tree):\n",
    "        regressor = tree.DecisionTreeRegressor(max_depth=5, random_state=42)\n",
    "        regressor.fit(X_train, current_target)\n",
    "\n",
    "        trees_reg.append(regressor)\n",
    "        coef.append(0.2)\n",
    "\n",
    "        predict = gbm_predict(X_train)\n",
    "        current_target = calc_shift(predict, y_train)\n",
    "\n",
    "    predict = gbm_predict(X_test)\n",
    "    score_tree = metrics.mean_squared_error(y_test, predict)\n",
    "    scores_tree.append(score_tree)\n",
    "\n",
    "    #XGB\n",
    "    estimator = xgb.XGBClassifier(learning_rate=0.2, max_depth=5, n_estimators=n_tree, random_state=42, n_jobs=-1)\n",
    "    estimator.fit(X_train, y_train, eval_metric='mlogloss')\n",
    "    predict = estimator.predict(X_test)\n",
    "    score_xgb = metrics.mean_squared_error(y_test, predict)\n",
    "    scores_xgb_tree.append(score_xgb)\n",
    "\n",
    "    print(f'{n_tree}: {score_tree:.4f} vs {score_xgb:.4f}')"
   ]
  },
  {
   "cell_type": "code",
   "execution_count": 29,
   "outputs": [
    {
     "name": "stdout",
     "output_type": "stream",
     "text": [
      "1: 34.7509 vs 50.9953\n",
      "2: 25.4462 vs 29.6865\n",
      "3: 21.3704 vs 39.2728\n",
      "4: 24.0262 vs 28.4639\n",
      "5: 25.9607 vs 29.3196\n",
      "6: 31.4674 vs 25.7244\n",
      "7: 27.5218 vs 25.7244\n",
      "8: 34.0681 vs 25.7244\n",
      "9: 28.4379 vs 25.7244\n",
      "10: 32.7752 vs 25.7244\n",
      "20: 35.3414 vs 25.7244\n",
      "Wall time: 1min 33s\n"
     ]
    }
   ],
   "source": [
    "%%time\n",
    "n_depths = [1, 2, 3, 4, 5, 6, 7, 8, 9, 10] + [20]\n",
    "scores_depth = []\n",
    "scores_xgb_depth = []\n",
    "for n_depth in n_depths:\n",
    "    trees_reg = []\n",
    "    coef = []\n",
    "    current_target = y_train\n",
    "\n",
    "    for _ in range(25):\n",
    "        regressor = tree.DecisionTreeRegressor(max_depth=n_depth, random_state=42)\n",
    "        regressor.fit(X_train, current_target)\n",
    "\n",
    "        trees_reg.append(regressor)\n",
    "        coef.append(0.2)\n",
    "\n",
    "        predict = gbm_predict(X_train)\n",
    "        current_target = calc_shift(predict, y_train)\n",
    "\n",
    "    predict = gbm_predict(X_test)\n",
    "    score_tree = metrics.mean_squared_error(y_test, predict)\n",
    "    scores_depth.append(score_tree)\n",
    "\n",
    "    #XGB\n",
    "    estimator = xgb.XGBClassifier(learning_rate=0.2, max_depth=n_depth, n_estimators=25, random_state=42, n_jobs=-1)\n",
    "    estimator.fit(X_train, y_train, eval_metric='mlogloss')\n",
    "    predict = estimator.predict(X_test)\n",
    "    score_xgb = metrics.mean_squared_error(y_test, predict)\n",
    "    scores_xgb_depth.append(score_xgb)\n",
    "\n",
    "    print(f'{n_depth}: {score_tree:.4f} vs {score_xgb:.4f}')"
   ],
   "metadata": {
    "collapsed": false,
    "pycharm": {
     "name": "#%%\n"
    }
   }
  },
  {
   "cell_type": "code",
   "execution_count": 30,
   "outputs": [
    {
     "data": {
      "text/plain": "<Figure size 1152x432 with 4 Axes>",
      "image/png": "[encoded data removed]"
     },
     "metadata": {},
     "output_type": "display_data"
    }
   ],
   "source": [
    "plt.figure(figsize=(16, 6))\n",
    "\n",
    "# plot decision surface on train data\n",
    "plt.subplot(2, 2, 1)\n",
    "plt.plot(n_trees, scores_tree)\n",
    "plt.title('Number. My tree')\n",
    "\n",
    "plt.subplot(2, 2, 2)\n",
    "plt.plot(n_trees, scores_xgb_tree)\n",
    "plt.title('Number. XGB')\n",
    "\n",
    "plt.subplot(2, 2, 3)\n",
    "plt.plot(n_depths, scores_depth)\n",
    "plt.title('Depth. My tree')\n",
    "\n",
    "plt.subplot(2, 2, 4)\n",
    "plt.plot(n_depths, scores_xgb_depth)\n",
    "plt.title('Depth. XGB')\n",
    "\n",
    "plt.show()"
   ],
   "metadata": {
    "collapsed": false,
    "pycharm": {
     "name": "#%%\n"
    }
   }
  },
  {
   "cell_type": "code",
   "execution_count": 35,
   "outputs": [
    {
     "name": "stdout",
     "output_type": "stream",
     "text": [
      "4 2 3\n"
     ]
    }
   ],
   "source": [
    "write_answer(4, '2 3')"
   ],
   "metadata": {
    "collapsed": false,
    "pycharm": {
     "name": "#%%\n"
    }
   }
  },
  {
   "cell_type": "markdown",
   "metadata": {},
   "source": [
    "## Задание 5\n",
    "\n",
    "Сравните получаемое с помощью градиентного бустинга качество с качеством работы линейной регрессии. \n",
    "\n",
    "Для этого обучите `LinearRegression` из `sklearn.linear_model` (с параметрами по умолчанию) на обучающей выборке и оцените для прогнозов полученного алгоритма на тестовой выборке `RMSE`. Полученное качество - ответ в **пункте 5**. \n",
    "\n",
    "В данном примере качество работы простой модели должно было оказаться хуже, но не стоит забывать, что так бывает не всегда. В заданиях к этому курсу вы еще встретите пример обратной ситуации."
   ]
  },
  {
   "cell_type": "code",
   "execution_count": 38,
   "metadata": {
    "collapsed": true
   },
   "outputs": [
    {
     "name": "stdout",
     "output_type": "stream",
     "text": [
      "5 8.254979753549161\n"
     ]
    }
   ],
   "source": [
    "regressor = linear_model.LinearRegression()\n",
    "regressor.fit(X_train, y_train)\n",
    "\n",
    "predict = regressor.predict(X_test)\n",
    "score = metrics.mean_squared_error(y_test, predict)\n",
    "\n",
    "write_answer(5, score ** 0.5)"
   ]
  }
 ],
 "metadata": {
  "kernelspec": {
   "name": "myenv",
   "language": "python",
   "display_name": "Python (myenv)"
  },
  "language_info": {
   "codemirror_mode": {
    "name": "ipython",
    "version": 3
   },
   "file_extension": ".py",
   "mimetype": "text/x-python",
   "name": "python",
   "nbconvert_exporter": "python",
   "pygments_lexer": "ipython3",
   "version": "3.6.8"
  }
 },
 "nbformat": 4,
 "nbformat_minor": 1
}