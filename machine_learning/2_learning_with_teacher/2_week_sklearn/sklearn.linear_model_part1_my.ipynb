{
 "cells": [
  {
   "cell_type": "markdown",
   "metadata": {
    "collapsed": true,
    "pycharm": {
     "name": "#%% md\n"
    }
   },
   "source": [
    "## Линейные модели"
   ]
  },
  {
   "cell_type": "code",
   "execution_count": 42,
   "outputs": [],
   "source": [
    "from matplotlib import pyplot as plt\n",
    "from matplotlib.colors import ListedColormap\n",
    "from sklearn import model_selection, datasets, linear_model, metrics\n",
    "\n",
    "import numpy as np\n",
    "\n",
    "%matplotlib inline\n",
    "\n",
    "plt.style.use(['seaborn', 'seaborn-talk'])"
   ],
   "metadata": {
    "collapsed": false,
    "pycharm": {
     "name": "#%%\n"
    }
   }
  },
  {
   "cell_type": "markdown",
   "source": [
    "### Генерация данных"
   ],
   "metadata": {
    "collapsed": false,
    "pycharm": {
     "name": "#%% md\n"
    }
   }
  },
  {
   "cell_type": "code",
   "execution_count": 43,
   "outputs": [
    {
     "data": {
      "text/plain": "<Figure size 432x360 with 1 Axes>",
      "image/png": "[encoded data removed]"
     },
     "metadata": {},
     "output_type": "display_data"
    }
   ],
   "source": [
    "blobs = datasets.make_blobs(centers=4, cluster_std=4, random_state=1)\n",
    "\n",
    "colors = ListedColormap(['red', 'blue'])\n",
    "plt.figure(figsize=(6, 5))\n",
    "plt.scatter([x[0] for x in blobs[0]], [x[1] for x in blobs[0]], c=blobs[1], cmap=colors)\n",
    "\n",
    "plt.show()"
   ],
   "metadata": {
    "collapsed": false,
    "pycharm": {
     "name": "#%%\n"
    }
   }
  },
  {
   "cell_type": "code",
   "execution_count": 44,
   "outputs": [],
   "source": [
    "train_data, test_data, train_label, test_label = model_selection.train_test_split(blobs[0], blobs[1],\n",
    "                                                                                   test_size=0.3,\n",
    "                                                                                   random_state=1)"
   ],
   "metadata": {
    "collapsed": false,
    "pycharm": {
     "name": "#%%\n"
    }
   }
  },
  {
   "cell_type": "markdown",
   "source": [
    "## Линейная классификация"
   ],
   "metadata": {
    "collapsed": false
   }
  },
  {
   "cell_type": "markdown",
   "source": [
    "### RidgeClassifier"
   ],
   "metadata": {
    "collapsed": false,
    "pycharm": {
     "name": "#%% md\n"
    }
   }
  },
  {
   "cell_type": "code",
   "execution_count": 45,
   "outputs": [
    {
     "name": "stdout",
     "output_type": "stream",
     "text": [
      "Предсказание RidgeClassifier:\n",
      "test:\t[1 3 1 1 1 2 2 2 0 2 0 2 0 0 0 0 2 2 3 3 2 3 3 1 0 0 1 2 2 1]\n",
      "pred:\t[1 0 1 2 1 2 2 2 0 3 0 3 0 0 0 0 2 2 3 0 3 1 2 1 0 0 1 0 2 1]\n",
      "Верных ответов 70.0%\n",
      "Формула: w_1*0.079 + w_2*0.080 + 0.17\n"
     ]
    }
   ],
   "source": [
    "ridge_classifier = linear_model.RidgeClassifier(random_state=1)\n",
    "\n",
    "ridge_classifier.fit(train_data, train_label)\n",
    "\n",
    "ridge_predictions = ridge_classifier.predict(test_data)\n",
    "\n",
    "print('Предсказание RidgeClassifier:')\n",
    "print(f'test:\\t{test_label}')\n",
    "print(f'pred:\\t{ridge_predictions}')\n",
    "\n",
    "a = metrics.accuracy_score(test_label, ridge_predictions)\n",
    "print(f'Верных ответов {a*100:.1f}%')\n",
    "\n",
    "koef = ridge_classifier.coef_[0]\n",
    "inter = ridge_classifier.intercept_[0]\n",
    "print(f'Формула: w_1*{koef[0]:.3f} + w_2*{koef[1]:.3f} + {inter:.2f}')"
   ],
   "metadata": {
    "collapsed": false,
    "pycharm": {
     "name": "#%%\n"
    }
   }
  },
  {
   "cell_type": "markdown",
   "source": [
    "### LogisticRegression"
   ],
   "metadata": {
    "collapsed": false
   }
  },
  {
   "cell_type": "code",
   "execution_count": 46,
   "outputs": [
    {
     "name": "stdout",
     "output_type": "stream",
     "text": [
      "Предсказание LogisticRegression:\n",
      "test:\t[1 3 1 1 1 2 2 2 0 2 0 2 0 0 0 0 2 2 3 3 2 3 3 1 0 0 1 2 2 1]\n",
      "pred:\t[1 3 1 3 3 3 2 2 0 3 0 3 0 0 0 0 2 2 3 3 3 1 2 1 0 0 1 0 2 2]\n",
      "prob:\t[0.01 0.17 0.   0.   0.09 0.   0.   0.   0.99 0.03 1.   0.01 0.95 0.98\n",
      " 1.   0.68 0.   0.   0.03 0.19 0.02 0.37 0.   0.   0.81 1.   0.02 0.52\n",
      " 0.   0.  ]\n",
      "Верных ответов 66.7%\n",
      "Формула: w_1*0.523 + w_2*0.557 + 2.93\n"
     ]
    }
   ],
   "source": [
    "log_regression = linear_model.LogisticRegression(random_state=1)\n",
    "\n",
    "log_regression.fit(train_data, train_label)\n",
    "lr_prediction = log_regression.predict(test_data)\n",
    "lr_proba_predictions = log_regression.predict_proba(test_data)\n",
    "\n",
    "print('Предсказание LogisticRegression:')\n",
    "print(f'test:\\t{test_label}')\n",
    "print(f'pred:\\t{lr_prediction}')\n",
    "print(f'prob:\\t{np.round(lr_proba_predictions[:,0], 2)}')\n",
    "\n",
    "a = metrics.accuracy_score(test_label, lr_prediction)\n",
    "print(f'Верных ответов {a*100:.1f}%')\n",
    "\n",
    "koef = log_regression.coef_[0]\n",
    "inter = log_regression.intercept_[0]\n",
    "print(f'Формула: w_1*{koef[0]:.3f} + w_2*{koef[1]:.3f} + {inter:.2f}')"
   ],
   "metadata": {
    "collapsed": false,
    "pycharm": {
     "name": "#%%\n"
    }
   }
  },
  {
   "cell_type": "markdown",
   "source": [
    "## Оценка качества по Кросс валидации\n"
   ],
   "metadata": {
    "collapsed": false
   }
  },
  {
   "cell_type": "code",
   "execution_count": 47,
   "outputs": [
    {
     "name": "stdout",
     "output_type": "stream",
     "text": [
      "Ridge mean: 0.63, min-max: 0.50 ... 0.80, std: 0.09000\n",
      "Log   mean: 0.70, min-max: 0.50 ... 0.90, std: 0.10954\n"
     ]
    }
   ],
   "source": [
    "ridge_scoring = model_selection.cross_val_score(ridge_classifier, blobs[0], blobs[1],\n",
    "                                                scoring='accuracy', cv=10)\n",
    "\n",
    "lr_scoring = model_selection.cross_val_score(log_regression, blobs[0], blobs[1],\n",
    "                                             scoring='accuracy', cv=10)\n",
    "\n",
    "print(f'Ridge mean: {ridge_scoring.mean():.2f},',\n",
    "      f'min-max: {ridge_scoring.min():.2f} ... {ridge_scoring.max():.2f},',\n",
    "      f'std: {ridge_scoring.std():.5f}')\n",
    "\n",
    "print(f'Log   mean: {lr_scoring.mean():.2f},',\n",
    "      f'min-max: {lr_scoring.min():.2f} ... {lr_scoring.max():.2f},',\n",
    "      f'std: {lr_scoring.std():.5f}')"
   ],
   "metadata": {
    "collapsed": false,
    "pycharm": {
     "name": "#%%\n"
    }
   }
  },
  {
   "cell_type": "code",
   "execution_count": 48,
   "outputs": [
    {
     "data": {
      "text/plain": "20"
     },
     "execution_count": 48,
     "metadata": {},
     "output_type": "execute_result"
    }
   ],
   "source": [
    "scorer = metrics.make_scorer(metrics.accuracy_score)\n",
    "\n",
    "cv_strategy = model_selection.StratifiedShuffleSplit(n_splits=20, test_size=0.3, random_state=2)\n",
    "cv_strategy.get_n_splits(blobs[1])"
   ],
   "metadata": {
    "collapsed": false,
    "pycharm": {
     "name": "#%%\n"
    }
   }
  },
  {
   "cell_type": "code",
   "execution_count": 49,
   "outputs": [
    {
     "name": "stdout",
     "output_type": "stream",
     "text": [
      "Ridge mean: 0.62, min-max: 0.53 ... 0.73, std: 0.05099\n",
      "Log   mean: 0.64, min-max: 0.57 ... 0.73, std: 0.04203\n"
     ]
    }
   ],
   "source": [
    "ridge_scoring = model_selection.cross_val_score(ridge_classifier, blobs[0], blobs[1],\n",
    "                                                scoring=scorer, cv=cv_strategy)\n",
    "\n",
    "lr_scoring = model_selection.cross_val_score(log_regression, blobs[0], blobs[1],\n",
    "                                             scoring=scorer, cv=cv_strategy)\n",
    "\n",
    "print(f'Ridge mean: {ridge_scoring.mean():.2f},',\n",
    "      f'min-max: {ridge_scoring.min():.2f} ... {ridge_scoring.max():.2f},',\n",
    "      f'std: {ridge_scoring.std():.5f}')\n",
    "\n",
    "print(f'Log   mean: {lr_scoring.mean():.2f},',\n",
    "      f'min-max: {lr_scoring.min():.2f} ... {lr_scoring.max():.2f},',\n",
    "      f'std: {lr_scoring.std():.5f}')"
   ],
   "metadata": {
    "collapsed": false,
    "pycharm": {
     "name": "#%%\n"
    }
   }
  }
 ],
 "metadata": {
  "kernelspec": {
   "display_name": "Python 3",
   "language": "python",
   "name": "python3"
  },
  "language_info": {
   "codemirror_mode": {
    "name": "ipython",
    "version": 2
   },
   "file_extension": ".py",
   "mimetype": "text/x-python",
   "name": "python",
   "nbconvert_exporter": "python",
   "pygments_lexer": "ipython2",
   "version": "2.7.6"
  }
 },
 "nbformat": 4,
 "nbformat_minor": 0
}